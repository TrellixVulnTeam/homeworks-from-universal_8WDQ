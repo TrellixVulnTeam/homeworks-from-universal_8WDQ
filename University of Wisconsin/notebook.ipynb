{
    "cells": [
        {
            "cell_type": "markdown",
            "metadata": {
                "nbgrader": {
                    "grade": false,
                    "grade_id": "cell-8f3b19b382b45fcd",
                    "locked": true,
                    "schema_version": 3,
                    "solution": false
                },
                "editable": false,
                "deletable": false
            },
            "source": [
                "# BMI\/CS 576 Fall 2022 - HW4\n",
                "The objectives of this homework are to practice with\n",
                "\n",
                "* Tree-based dynamic programming\n",
                "* Using an HMM for prediction with Viterbi\n",
                "* Tree space search and parsimony\n",
                "* Markov chains\n",
                "\n",
                "## HW policies\n",
                "Before starting this homework, please read over the [homework policies](https:\/\/canvas.wisc.edu\/courses\/321084\/pages\/hw-policies) for this course.  In particular, note that homeworks are to be completed *individually* and plagiarism from any source (with the one exception noted below) will be considered **academic misconduct**.\n",
                "\n",
                "You are welcome to use any code from the weekly notebooks (including the official solutions) in your solutions to the HW."
            ]
        },
        {
            "cell_type": "markdown",
            "metadata": {
                "nbgrader": {
                    "grade": false,
                    "grade_id": "modules_header",
                    "locked": true,
                    "schema_version": 3,
                    "solution": false,
                    "task": false
                },
                "editable": false,
                "deletable": false
            },
            "source": [
                "## Modules for this HW"
            ]
        },
        {
            "cell_type": "code",
            "execution_count": null,
            "metadata": {
                "nbgrader": {
                    "grade": false,
                    "grade_id": "modules",
                    "locked": true,
                    "schema_version": 3,
                    "solution": false,
                    "task": false
                },
                "editable": false,
                "deletable": false
            },
            "outputs": [],
            "source": [
                "import toytree\n",
                "import fasta\n",
                "import submatrix"
            ]
        },
        {
            "cell_type": "markdown",
            "metadata": {
                "nbgrader": {
                    "grade": false,
                    "grade_id": "p1_description",
                    "locked": true,
                    "schema_version": 3,
                    "solution": false,
                    "task": false
                },
                "editable": false,
                "deletable": false
            },
            "source": [
                "## PROBLEM 1: Tree likelihood (40 points)\n",
                "\n",
                "Given character states at the leaves of a tree and weights for character substitutions, the weighted parsimony algorithm computes the minimum cost assignment of character states to the ancestral nodes of the tree.  The motivation for this task is that it provides a score for a tree that can be used compare how well the tree fits the data (the characters states at the leaves) relative to other possible tree structures.  An alternative to the weighted parsimony score of a tree is the *likelihood* of the character states at the leaves given the tree and a probabilistic model of how character states evolve along a tree.  In this problem we will implement a dynamic programming algorithm for computing the tree likelihood, which is similar in form to the weighted parsimony algorithm.\n",
                "\n",
                "In this problem, the generative probabilistic model that we will assume is a simple one in which:\n",
                "* The character state at the root node is drawn from a categorical distribution $q$, i.e., the prior probability that the character at the root node is $a$ is $q(a)$.\n",
                "* Character states are generated from the root down to the leaves.  At an internal node of the tree that has a parent node with character state $a$, the probability that the node takes character state $b$ is $S(a,b)$.\n",
                "\n",
                "The *likelihood* is the marginal probability of the character states at the leaves, given the tree.  It can be efficiently calculated with the following dynamic programming algorithm.  Let $R_i(a)$ be the likelihood of the character states of leaf nodes of the subtree rooted by node $i$ given that node $i$ has the character state $a$. \n",
                "\n",
                "**initialization**\n",
                "\n",
                "For all leaf nodes $i$, set \n",
                "\n",
                "$R_i(a) = \\left\\{\\begin{array}{ll}\n",
                "1 & \\textrm{if leaf node $i$ has character state $a$} \\\\\n",
                "0 & \\textrm{otherwise}\n",
                "\\end{array}\\right.$\n",
                "\n",
                "**recurrence**\n",
                "\n",
                "In a *postorder* traversal of the tree, for each internal node $i$ with children $j$ and $k$ compute\n",
                "\n",
                "$R_i(a) = \\left(\\sum_b R_j(b) S(a, b)\\right) \\left(\\sum_c R_k(c) S(a, c)\\right)$\n",
                "\n",
                "**termination**\n",
                "\n",
                "Let $root$ be the index of the root node\n",
                "\n",
                "return $\\textrm{likelihood} = \\sum_a R_{root}(a) q(a)$\n",
                "\n",
                "Note that this algorithm is very similar to the weighted parsimony algorithm with minimums replaced by sums and sums replaced by products.  There is no traceback for this algorithm as it computes a sum over all possible assignments to the internal nodes. This algorithm is a variation of what is known as *Felsenstein's algorithm*, which is described in section 8.3 of the textbook.  Implement this algorithm in the function `tree_likelihood` below.  You may find useful the form of the implementation of `fitch_score_and_min_cost_states` in the Day 16 notebook.\n",
                "\n",
                "Tests for Problem 1 are found at the bottom of this notebook."
            ]
        },
        {
            "cell_type": "markdown",
            "metadata": {
                "nbgrader": {
                    "grade": false,
                    "grade_id": "cell-aeada4c6f9706531",
                    "locked": true,
                    "schema_version": 3,
                    "solution": false,
                    "task": false
                },
                "editable": false,
                "deletable": false
            },
            "source": [
                "### Probabilistic substitution matrices to be used in this assignment"
            ]
        },
        {
            "cell_type": "code",
            "execution_count": null,
            "metadata": {
                "nbgrader": {
                    "grade": false,
                    "grade_id": "cell-0a5502c46d809f6f",
                    "locked": true,
                    "schema_version": 3,
                    "solution": false,
                    "task": false
                },
                "editable": false,
                "deletable": false
            },
            "outputs": [],
            "source": [
                "DNA = \"ACGT\"\n",
                "basic_dna_S = submatrix.match_mismatch_matrix(0.85, 0.05, DNA)\n",
                "basic_dna_q = {a: 0.25 for a in DNA}\n",
                "\n",
                "print(\"basic_dna_S = \")\n",
                "submatrix.print_matrix(basic_dna_S)\n",
                "print(\"basic_dna_q = \")\n",
                "submatrix.print_vector(basic_dna_q)"
            ]
        },
        {
            "cell_type": "code",
            "execution_count": null,
            "metadata": {
                "nbgrader": {
                    "grade": false,
                    "grade_id": "tree_likelihood",
                    "locked": false,
                    "schema_version": 3,
                    "solution": true,
                    "task": false
                }
            },
            "outputs": [],
            "source": [
                "def tree_likelihood(tree, leaf_states, S, q, alphabet = DNA):\n",
                "    \"\"\"Computes the likelihood of the leaf states given the tree and model parameters (S & q)\n",
                "\n",
                "    Args:\n",
                "        tree: a toytree tree.\n",
                "        leaf_states: a dictionary mapping leaf names to characters.\n",
                "        S: a substitution matrix (represented as a dictionary with tuples as keys)\n",
                "           where S[a, b] is the conditional probability of a child node taking\n",
                "           character state b given that its parent has character state a.\n",
                "        q: a dictionary with q[a] giving the prior probability of the root node \n",
                "           taking character state a.\n",
                "        alphabet: a string specifying the possible character states that each node may take.\n",
                "    Returns:\n",
                "        The marginal probability of the leaf character states.\n",
                "    \"\"\"    \n",
                "    ###\n",
                "    ### YOUR CODE HERE\n",
                "    ###\n"
            ]
        },
        {
            "cell_type": "markdown",
            "metadata": {
                "nbgrader": {
                    "grade": false,
                    "grade_id": "cell-0e305dedce247846",
                    "locked": true,
                    "schema_version": 3,
                    "solution": false,
                    "task": false
                },
                "editable": false,
                "deletable": false
            },
            "source": [
                "## PROBLEM 2: Inferring recombination within the SARS-CoV-2 spike gene (20 points)"
            ]
        },
        {
            "cell_type": "markdown",
            "metadata": {
                "nbgrader": {
                    "grade": false,
                    "grade_id": "cell-61f96087d0d9dc45",
                    "locked": true,
                    "schema_version": 3,
                    "solution": false,
                    "task": false
                },
                "editable": false,
                "deletable": false
            },
            "source": [
                "### Recombination\n",
                "An important phenomenon in the evolution of genomes is that of *recombination*.  In general, recombination is a process in which a new \"child\" genomic sequence is created from a mixture of two more \"parental\" genomic sequences.  In humans, recombination regularly occurs during meiosis via a mechanism called \"crossing over.\"  During a crossing over event in humans, the two homologous copies of a chromosome (one from dad and the other from mom) in a cell can exchange homologous parts.  For example, if the two homologous parental chromosomes are\n",
                "\n",
                "    MMMMMMMMMMMMMMMMMMMMMMMMMMM\n",
                "\n",
                "and\n",
                "\n",
                "    DDDDDDDDDDDDDDDDDDDDDDDDDDD\n",
                "\n",
                "then, for example, after one crossing over event, you can get a new chromosome that looks like\n",
                "\n",
                "    MMMMMMMMDDDDDDDDDDDDDDDDDDD\n",
                "\n",
                "or with two crossing over events you can get a chromosome looking like\n",
                "\n",
                "    MMMMMMMMMMMMMMDDDDDDMMMMMMM\n",
                "\n",
                "With further crossing over events, perhaps in later generations, chromosomes become complex mosaics of of the original parental chromosomes.  For a fun video illustrating this process in humans (via legos), see this [YouTube video from Science News](https:\/\/www.youtube.com\/watch?v=RZWB_xt0chY).\n",
                "\n",
                "Recombination of various forms occurs across the tree of life, including in bacteria and viruses. In this problem, we will explore the possibility of a recombination event in the evolutionary history of SARS-CoV-2.\n",
                "\n",
                "### Possible recombination within the spike gene in SARS-CoV-2\n",
                "Recent studies have shown that the pandemic-causing SARS-CoV-2 virus most likely originated from bats ([Wu et al. 2020](http:\/\/dx.doi.org\/10.1038\/s41586-020-2008-3)). However, it still remains unclear whether the virus was transmitted directly to humans from bats, or if there was some other intermediate species. High similarity between SARS-CoV-2 and a coronavirus found in [pangolins](https:\/\/en.wikipedia.org\/wiki\/Pangolin) in the region of the genome containing the spike (S) protein has suggested that pangolins may have played a role (e.g., [Zhang et al. 2020](http:\/\/dx.doi.org\/10.1016\/j.cub.2020.03.022)) and that SARS-CoV-2 may be the result of recombination between bat and pangolin coronaviruses.  Other studies ([Boni et al. 2020](http:\/\/dx.doi.org\/10.1038\/s41564-020-0771-4)) have presented analyses that refute this hypothesis.\n",
                "\n",
                "In this problem you will analyze an alignment of the spike gene from SARS-CoV-2 and from closely related viruses found in bats and pangolins. Below is code for reading in these sequences.  The sequences in the alignment are spike genes from viruses in human (H), bat (B), pangolin (P), and an outgroup (O) bat."
            ]
        },
        {
            "cell_type": "code",
            "execution_count": null,
            "metadata": {
                "nbgrader": {
                    "grade": false,
                    "grade_id": "cell-6103abe35127257f",
                    "locked": true,
                    "schema_version": 3,
                    "solution": false,
                    "task": false
                },
                "editable": false,
                "deletable": false
            },
            "outputs": [],
            "source": [
                "alignment_filename = \"spike_gene_alignment.fasta\"\n",
                "spike_gene_alignment_recs = fasta.read_sequences_from_fasta_file(alignment_filename)\n",
                "spike_gene_names, spike_gene_alignment = zip(*spike_gene_alignment_recs)\n",
                "print(spike_gene_names)"
            ]
        },
        {
            "cell_type": "code",
            "execution_count": null,
            "metadata": {
                "nbgrader": {
                    "grade": false,
                    "grade_id": "cell-34cdee440f730a53",
                    "locked": true,
                    "schema_version": 3,
                    "solution": false,
                    "task": false
                },
                "editable": false,
                "deletable": false
            },
            "outputs": [],
            "source": [
                "# In this problem, it will be helpful to have a list of the columns of the alignment\n",
                "def transpose_alignment(alignment):\n",
                "    \"\"\"Returns a column-based alignment from a row-based alignment or vice versa\"\"\"\n",
                "    return list(map(''.join, zip(*alignment)))\n",
                "\n",
                "spike_gene_alignment_columns = transpose_alignment(spike_gene_alignment)"
            ]
        },
        {
            "cell_type": "markdown",
            "metadata": {
                "nbgrader": {
                    "grade": false,
                    "grade_id": "cell-671e846bd2a87b2f",
                    "locked": true,
                    "schema_version": 3,
                    "solution": false,
                    "task": false
                },
                "editable": false,
                "deletable": false
            },
            "source": [
                "### PhyloHMMs for detecting recombination from multiple alignments\n",
                "\n",
                "In this problem, we will identify regions of the spike gene that have potentially undergone recombination using a hidden Markov model (HMM).  Specifically, we will devise a Phylogenetic hidden Markov model (PhyloHMM) in which the the observed sequence is the sequence of *columns* in an *ungapped* multiple alignment and the hidden state at each position is the phylogenetic tree that represents the true evolutionary history of that position.  The model will allow for the true tree to change from position to position, which can happen due to recombination or other mechanisms that transfer pieces of genetic material from one genome to another.  Shown below is an example state transition diagram for a PhyloHMM that generates a multiple alignment of three taxa (A, B, and C).  In this example, there are three states corresponding to the three possible rooted trees of the three taxa.  Shown in dashed boxes are the emission probabilities of each state.  Note that each state emits an ungapped column of a multiple alignment (i.e., a DNA character for each of the three taxa).\n",
                "\n",
                "![Example PhyloHMM](phylohmm.png)\n",
                "\n",
                "**(a)** Construct a PhyloHMM model for the spike gene alignment as an instance of the `hmm.HiddenMarkovModel` class.  Assign this instance to the variable `phylohmm`.  Your HMM should have the following characteristics:\n",
                "* The states should represent all possible rooted trees of four taxa (H, B, P, and O).  *Note: O is not required to be an outgroup in these trees.*\n",
                "* The emission characters should be all possible columns of an *ungapped* multiple alignment of four DNA sequences.\n",
                "* The emission probabilities should be calculated by your `tree_likelihood` function from problem 1.  Use the `basic_dna_S` substitution matrix and the `basic_dna_q` prior probabilities.\n",
                "* The transition probability matrix should be parameterized by a single parameter $r = 0.01$, with the self-transition probabilities set to $1-r$ and the remaining transition probability ($r$) evenly divided across the other states.  In the example PhyloHMM depicted above, this scheme is used with $r = 0.1$.\n",
                "* The initial probabilities should be a uniform distribution.\n",
                "\n",
                "*Important note: the `hmm.HiddenMarkovModel` class has been changed slightly from that used in the weekly notebooks to allow for the states and characters to be lists of strings.  This will allow you to use a string instead of a single character to represent your states and observed characters.*\n",
                "\n",
                "**(b)** Run the Viterbi algorithm with your model and the spike gene alignment. Examine the path of hidden states predicted by Viterbi.  Does this path suggest that there was a recombination event in the evolutionary history of the SARS-CoV-2 spike gene?  Explain your answer.\n",
                "\n",
                "**(c)** Create another PhyloHMM model that is the same as in (a) but with $r = 0.0001$.  Assign it to the variable `phylohmm2`.  Repeat part (b) with this model."
            ]
        },
        {
            "cell_type": "markdown",
            "metadata": {
                "nbgrader": {
                    "grade": false,
                    "grade_id": "2a_header",
                    "locked": true,
                    "schema_version": 3,
                    "solution": false,
                    "task": false
                },
                "editable": false,
                "deletable": false
            },
            "source": [
                "### 2a (10 points)"
            ]
        },
        {
            "cell_type": "code",
            "execution_count": null,
            "metadata": {
                "nbgrader": {
                    "grade": true,
                    "grade_id": "cell-4c828cc021d5b738",
                    "locked": false,
                    "points": 2,
                    "schema_version": 3,
                    "solution": true,
                    "task": false
                }
            },
            "outputs": [],
            "source": [
                "import hmm\n",
                "###\n",
                "### Your solution to 2(a)   \n",
                "###\n"
            ]
        },
        {
            "cell_type": "markdown",
            "metadata": {},
            "source": [
                "#### Some hidden automated tests of your phylohmm"
            ]
        },
        {
            "cell_type": "code",
            "execution_count": null,
            "metadata": {
                "nbgrader": {
                    "grade": true,
                    "grade_id": "p2_number_of_states",
                    "locked": true,
                    "points": 2,
                    "schema_version": 3,
                    "solution": false,
                    "task": false
                },
                "editable": false,
                "deletable": false
            },
            "outputs": [],
            "source": [
                "# p2_number_of_states (2 points)\n",
                "assert isinstance(phylohmm, hmm.HiddenMarkovModel)\n",
                "###\n",
                "### AUTOGRADER TEST - DO NOT REMOVE\n",
                "###\n"
            ]
        },
        {
            "cell_type": "code",
            "execution_count": null,
            "metadata": {
                "nbgrader": {
                    "grade": true,
                    "grade_id": "p2_number_of_chars",
                    "locked": true,
                    "points": 2,
                    "schema_version": 3,
                    "solution": false,
                    "task": false
                },
                "editable": false,
                "deletable": false
            },
            "outputs": [],
            "source": [
                "# p2_number_of_chars (2 points)\n",
                "assert isinstance(phylohmm, hmm.HiddenMarkovModel)\n",
                "###\n",
                "### AUTOGRADER TEST - DO NOT REMOVE\n",
                "###\n"
            ]
        },
        {
            "cell_type": "code",
            "execution_count": null,
            "metadata": {
                "nbgrader": {
                    "grade": true,
                    "grade_id": "p2_emission_dimension",
                    "locked": true,
                    "points": 1,
                    "schema_version": 3,
                    "solution": false,
                    "task": false
                },
                "editable": false,
                "deletable": false
            },
            "outputs": [],
            "source": [
                "# p2_emission_dimension (1 point)\n",
                "assert isinstance(phylohmm, hmm.HiddenMarkovModel)\n",
                "###\n",
                "### AUTOGRADER TEST - DO NOT REMOVE\n",
                "###\n"
            ]
        },
        {
            "cell_type": "code",
            "execution_count": null,
            "metadata": {
                "nbgrader": {
                    "grade": true,
                    "grade_id": "p2_emission_values",
                    "locked": true,
                    "points": 1,
                    "schema_version": 3,
                    "solution": false,
                    "task": false
                },
                "editable": false,
                "deletable": false
            },
            "outputs": [],
            "source": [
                "# p2_emission_values (1 point)\n",
                "assert isinstance(phylohmm, hmm.HiddenMarkovModel)\n",
                "###\n",
                "### AUTOGRADER TEST - DO NOT REMOVE\n",
                "###\n"
            ]
        },
        {
            "cell_type": "code",
            "execution_count": null,
            "metadata": {
                "nbgrader": {
                    "grade": true,
                    "grade_id": "p2_transition_dimension",
                    "locked": true,
                    "points": 1,
                    "schema_version": 3,
                    "solution": false,
                    "task": false
                },
                "editable": false,
                "deletable": false
            },
            "outputs": [],
            "source": [
                "# p2_transition_dimension (1 point)\n",
                "assert isinstance(phylohmm, hmm.HiddenMarkovModel)\n",
                "###\n",
                "### AUTOGRADER TEST - DO NOT REMOVE\n",
                "###\n"
            ]
        },
        {
            "cell_type": "code",
            "execution_count": null,
            "metadata": {
                "nbgrader": {
                    "grade": true,
                    "grade_id": "p2_transition_values",
                    "locked": true,
                    "points": 1,
                    "schema_version": 3,
                    "solution": false,
                    "task": false
                },
                "editable": false,
                "deletable": false
            },
            "outputs": [],
            "source": [
                "# p2_transition_values (1 point)\n",
                "assert isinstance(phylohmm, hmm.HiddenMarkovModel)\n",
                "###\n",
                "### AUTOGRADER TEST - DO NOT REMOVE\n",
                "###\n"
            ]
        },
        {
            "cell_type": "markdown",
            "metadata": {
                "nbgrader": {
                    "grade": false,
                    "grade_id": "2b_header",
                    "locked": true,
                    "schema_version": 3,
                    "solution": false,
                    "task": false
                },
                "editable": false,
                "deletable": false
            },
            "source": [
                "### 2b (7 points)"
            ]
        },
        {
            "cell_type": "code",
            "execution_count": null,
            "metadata": {
                "nbgrader": {
                    "grade": true,
                    "grade_id": "cell-2de78e972c94b9c3",
                    "locked": false,
                    "points": 4,
                    "schema_version": 3,
                    "solution": true,
                    "task": false
                }
            },
            "outputs": [],
            "source": [
                "###\n",
                "### Your coded solution to 2(b)  \n",
                "###\n"
            ]
        },
        {
            "cell_type": "markdown",
            "metadata": {
                "nbgrader": {
                    "grade": true,
                    "grade_id": "cell-6419be51f4e63106",
                    "locked": false,
                    "points": 3,
                    "schema_version": 3,
                    "solution": true,
                    "task": false
                }
            },
            "source": [
                "###\n",
                "### Your written solution to 2(b)  \n",
                "###\n"
            ]
        },
        {
            "cell_type": "markdown",
            "metadata": {
                "nbgrader": {
                    "grade": false,
                    "grade_id": "2c_header",
                    "locked": true,
                    "schema_version": 3,
                    "solution": false,
                    "task": false
                },
                "editable": false,
                "deletable": false
            },
            "source": [
                "### 2c (3 points)"
            ]
        },
        {
            "cell_type": "code",
            "execution_count": null,
            "metadata": {
                "nbgrader": {
                    "grade": true,
                    "grade_id": "cell-3b298e50880890e3",
                    "locked": false,
                    "points": 2,
                    "schema_version": 3,
                    "solution": true,
                    "task": false
                }
            },
            "outputs": [],
            "source": [
                "###\n",
                "### Your coded solution to 2(C)  \n",
                "###\n"
            ]
        },
        {
            "cell_type": "markdown",
            "metadata": {
                "nbgrader": {
                    "grade": true,
                    "grade_id": "2c_written",
                    "locked": false,
                    "points": 1,
                    "schema_version": 3,
                    "solution": true,
                    "task": false
                }
            },
            "source": [
                "###\n",
                "### Your written solution to 2(c)  \n",
                "###\n"
            ]
        },
        {
            "cell_type": "markdown",
            "metadata": {
                "nbgrader": {
                    "grade": false,
                    "grade_id": "cell-fcf5590f2e8a7255",
                    "locked": true,
                    "schema_version": 3,
                    "solution": false,
                    "task": false
                },
                "editable": false,
                "deletable": false
            },
            "source": [
                "## PROBLEM 3: Branch and Bound with unweighted Parsimony (25 points)\n",
                "\n",
                "Suppose we wish to find an unrooted tree with the minimum unweighted parsimony score for five taxa: 1,2,3,4,and 5, which have character states $T, T, G, G, T$, respectively.  In this problem, we will use the first branch and bound method described in the [Day 16 Tree space search lecture](https:\/\/canvas.wisc.edu\/courses\/321084\/pages\/day-16-online-lecture-phylogenetic-trees-tree-space-search?module_item_id=5345701) (slide 7: \"Exact Method: Branch and Bound\") to find such a tree.  We will use the unweighted parsimony score of a partial tree as the lower bound for the score of a full tree that may be built from it.\n",
                "\n",
                "**(a)** Manually run the branch and bound algorithm on these data starting with the unrooted tree containg taxa 1, 2, and 3.  At the end of each iteration of the algorithm, list the elements (as newick strings) of the queue with their lower bounds. You do *not* need to show your work with respect to computing the parsimony score of each (partial) tree.\n",
                "\n",
                "**(b)** For how many (partial) trees did you have to compute a parsimony score during the algorithm in part (a)?  How does this compare to the number of possible unrooted trees of five taxa?"
            ]
        },
        {
            "cell_type": "markdown",
            "metadata": {
                "nbgrader": {
                    "grade": true,
                    "grade_id": "p3a",
                    "locked": false,
                    "points": 21,
                    "schema_version": 3,
                    "solution": true,
                    "task": false
                }
            },
            "source": [
                "###\n",
                "### Your solution to Problem 3a here\n",
                "###\n"
            ]
        },
        {
            "cell_type": "markdown",
            "metadata": {
                "nbgrader": {
                    "grade": true,
                    "grade_id": "p3b",
                    "locked": false,
                    "points": 4,
                    "schema_version": 3,
                    "solution": true,
                    "task": false
                }
            },
            "source": [
                "###\n",
                "### Your solution to Problem 3b here\n",
                "###\n"
            ]
        },
        {
            "cell_type": "markdown",
            "metadata": {
                "nbgrader": {
                    "grade": false,
                    "grade_id": "p4_description",
                    "locked": true,
                    "schema_version": 3,
                    "solution": false,
                    "task": false
                },
                "editable": false,
                "deletable": false
            },
            "source": [
                "## PROBLEM 4: Markov chain parameter estimation and likelihood (15 points)\n",
                "\n",
                "Suppose we are given the following five DNA sequences. In this problem, we will model these of sequences using a simple Markov chain with a state for each of the four DNA bases.\n",
                "\n",
                "$\\begin{eqnarray}\n",
                "x_1 & = & \\mathrm{\\tt CCAA} \\\\\n",
                "x_2 & = & \\mathrm{\\tt ACTT} \\\\\n",
                "x_3 & = & \\mathrm{\\tt GCCG} \\\\\n",
                "x_4 & = & \\mathrm{\\tt CTGC} \\\\\n",
                "x_5 & = & \\mathrm{\\tt TACT} \\\\\n",
                "\\end{eqnarray}$\n",
                "\n",
                "**(a)** Using uniform distributions for the transition probabilities and initial state probabilities, calculate the likelihood, $P(x_1, x_2, x_3, x_4, x_5)$, of these sequences (where we assume that each sequence is generated independently from the model).\n",
                "\n",
                "**(b)** Estimate the parameters (transition and initial probabilities) of the Markov chain using maximum likelihood estimates. Calculate the likelihood of these sequences given these maximum likelihood parameter estimates.\n",
                "\n",
                "**(c)** Estimate the parameters (transition and initial probabilities) of the Markov chain using Laplace estimates (pseudocount = 1). Calculate the likelihood of these sequences given these Laplace parameter estimates."
            ]
        },
        {
            "cell_type": "markdown",
            "metadata": {
                "nbgrader": {
                    "grade": true,
                    "grade_id": "p4a",
                    "locked": false,
                    "points": 3,
                    "schema_version": 3,
                    "solution": true,
                    "task": false
                }
            },
            "source": [
                "###\n",
                "### Your solution to Problem 4a here\n",
                "###\n"
            ]
        },
        {
            "cell_type": "markdown",
            "metadata": {
                "nbgrader": {
                    "grade": true,
                    "grade_id": "p4b",
                    "locked": false,
                    "points": 6,
                    "schema_version": 3,
                    "solution": true,
                    "task": false
                }
            },
            "source": [
                "###\n",
                "### Your solution to Problem 4b here\n",
                "###\n"
            ]
        },
        {
            "cell_type": "markdown",
            "metadata": {
                "nbgrader": {
                    "grade": true,
                    "grade_id": "p4c",
                    "locked": false,
                    "points": 6,
                    "schema_version": 3,
                    "solution": true,
                    "task": false
                }
            },
            "source": [
                "###\n",
                "### Your solution to Problem 4c here\n",
                "###\n"
            ]
        },
        {
            "cell_type": "markdown",
            "metadata": {
                "nbgrader": {
                    "grade": false,
                    "grade_id": "cell-72c248106b36e23b",
                    "locked": true,
                    "schema_version": 3,
                    "solution": false,
                    "task": false
                },
                "editable": false,
                "deletable": false
            },
            "source": [
                "## Tests for Problem 1"
            ]
        },
        {
            "cell_type": "code",
            "execution_count": null,
            "metadata": {
                "nbgrader": {
                    "grade": true,
                    "grade_id": "trivial_match",
                    "locked": true,
                    "points": 7,
                    "schema_version": 3,
                    "solution": false,
                    "task": false
                },
                "editable": false,
                "deletable": false
            },
            "outputs": [],
            "source": [
                "# trivial_match (7 points)\n",
                "x = tree_likelihood(toytree.tree(\"(A,B);\"), {\"A\": \"A\", \"B\": \"A\"}, basic_dna_S, basic_dna_q)\n",
                "print(round(x, 6))\n",
                "assert round(x, 6) == 0.18250\n",
                "print(\"SUCCESS: trivial_match test case passed!\")"
            ]
        },
        {
            "cell_type": "code",
            "execution_count": null,
            "metadata": {
                "nbgrader": {
                    "grade": true,
                    "grade_id": "trivial_mismatch",
                    "locked": true,
                    "points": 7,
                    "schema_version": 3,
                    "solution": false,
                    "task": false
                },
                "editable": false,
                "deletable": false
            },
            "outputs": [],
            "source": [
                "# trivial_mismatch (7 points)\n",
                "x = tree_likelihood(toytree.tree(\"(A,B);\"), {\"A\": \"A\", \"B\": \"C\"}, basic_dna_S, basic_dna_q)\n",
                "print(round(x, 6))\n",
                "assert round(x, 6) == 0.02250\n",
                "print(\"SUCCESS: trivial_mismatch test case passed!\")"
            ]
        },
        {
            "cell_type": "code",
            "execution_count": null,
            "metadata": {
                "nbgrader": {
                    "grade": true,
                    "grade_id": "triple_match",
                    "locked": true,
                    "points": 3,
                    "schema_version": 3,
                    "solution": false,
                    "task": false
                },
                "editable": false,
                "deletable": false
            },
            "outputs": [],
            "source": [
                "# triple_match (3 points)\n",
                "x = tree_likelihood(toytree.tree(\"(A,(B,C));\"), {\"A\": \"T\", \"B\": \"T\", \"C\": \"T\"}, basic_dna_S, basic_dna_q)\n",
                "print(round(x, 6))\n",
                "assert round(x, 6) == 0.132025\n",
                "print(\"SUCCESS: triple_match test case passed!\")"
            ]
        },
        {
            "cell_type": "code",
            "execution_count": null,
            "metadata": {
                "nbgrader": {
                    "grade": true,
                    "grade_id": "triple_mismatch",
                    "locked": true,
                    "points": 3,
                    "schema_version": 3,
                    "solution": false,
                    "task": false
                },
                "editable": false,
                "deletable": false
            },
            "outputs": [],
            "source": [
                "# triple_mismatch (3 points)\n",
                "x = tree_likelihood(toytree.tree(\"(A,(B,C));\"), {\"A\": \"G\", \"B\": \"T\", \"C\": \"T\"}, basic_dna_S, basic_dna_q)\n",
                "print(round(x, 6))\n",
                "assert round(x, 6) == 0.016825\n",
                "print(\"SUCCESS: triple_mismatch test case passed!\")"
            ]
        },
        {
            "cell_type": "code",
            "execution_count": null,
            "metadata": {
                "nbgrader": {
                    "grade": true,
                    "grade_id": "triple_mismatch2",
                    "locked": true,
                    "points": 2,
                    "schema_version": 3,
                    "solution": false,
                    "task": false
                },
                "editable": false,
                "deletable": false
            },
            "outputs": [],
            "source": [
                "# triple_mismatch2 (2 points)\n",
                "x = tree_likelihood(toytree.tree(\"(A,(B,C));\"), {\"A\": \"T\", \"B\": \"G\", \"C\": \"T\"}, basic_dna_S, basic_dna_q)\n",
                "print(round(x, 6))\n",
                "assert round(x, 6) == 0.008825\n",
                "print(\"SUCCESS: triple_mismatch2 test case passed!\")"
            ]
        },
        {
            "cell_type": "code",
            "execution_count": null,
            "metadata": {
                "nbgrader": {
                    "grade": true,
                    "grade_id": "quartet_match",
                    "locked": true,
                    "points": 2,
                    "schema_version": 3,
                    "solution": false,
                    "task": false
                },
                "editable": false,
                "deletable": false
            },
            "outputs": [],
            "source": [
                "# quartet_match (2 points)\n",
                "x = tree_likelihood(toytree.tree(\"((A,B),(C,D));\"), {\"A\": \"C\", \"B\": \"C\", \"C\": \"C\", \"D\": \"C\"}, basic_dna_S, basic_dna_q)\n",
                "print(round(x, 6))\n",
                "assert round(x, 6) == 0.095514\n",
                "print(\"SUCCESS: quartet_match test case passed!\")"
            ]
        },
        {
            "cell_type": "code",
            "execution_count": null,
            "metadata": {
                "nbgrader": {
                    "grade": true,
                    "grade_id": "quartet_mismatch",
                    "locked": true,
                    "points": 2,
                    "schema_version": 3,
                    "solution": false,
                    "task": false
                },
                "editable": false,
                "deletable": false
            },
            "outputs": [],
            "source": [
                "# quartet_mismatch (2 points)\n",
                "x = tree_likelihood(toytree.tree(\"((A,B),(C,D));\"), {\"A\": \"G\", \"B\": \"C\", \"C\": \"C\", \"D\": \"C\"}, basic_dna_S, basic_dna_q)\n",
                "print(round(x, 6))\n",
                "assert round(x, 6) == 0.00641\n",
                "print(\"SUCCESS: quartet_mismatch test case passed!\")"
            ]
        },
        {
            "cell_type": "code",
            "execution_count": null,
            "metadata": {
                "nbgrader": {
                    "grade": true,
                    "grade_id": "quartet_all_mismatch",
                    "locked": true,
                    "points": 1,
                    "schema_version": 3,
                    "solution": false,
                    "task": false
                },
                "editable": false,
                "deletable": false
            },
            "outputs": [],
            "source": [
                "# quartet_all_mismatch (2 points)\n",
                "x = tree_likelihood(toytree.tree(\"((A,B),(C,D));\"), {\"A\": \"G\", \"B\": \"C\", \"C\": \"T\", \"D\": \"A\"}, basic_dna_S, basic_dna_q)\n",
                "print(round(x, 6))\n",
                "assert round(x, 6) == 0.00025\n",
                "print(\"SUCCESS: quartet_all_mismatch test case passed!\")"
            ]
        },
        {
            "cell_type": "code",
            "execution_count": null,
            "metadata": {
                "nbgrader": {
                    "grade": true,
                    "grade_id": "quartet2_match",
                    "locked": true,
                    "points": 1,
                    "schema_version": 3,
                    "solution": false,
                    "task": false
                },
                "scrolled": true,
                "editable": false,
                "deletable": false
            },
            "outputs": [],
            "source": [
                "# quartet2_match (1 point)\n",
                "x = tree_likelihood(toytree.tree(\"(A,(B,(C,D)));\"), {\"A\": \"C\", \"B\": \"C\", \"C\": \"C\", \"D\": \"C\"}, basic_dna_S, basic_dna_q)\n",
                "print(round(x, 6))\n",
                "assert round(x, 6) == 0.095454\n",
                "print(\"SUCCESS: quartet2_match test case passed!\")"
            ]
        },
        {
            "cell_type": "code",
            "execution_count": null,
            "metadata": {
                "nbgrader": {
                    "grade": true,
                    "grade_id": "quartet2_mismatch",
                    "locked": true,
                    "points": 1,
                    "schema_version": 3,
                    "solution": false,
                    "task": false
                },
                "editable": false,
                "deletable": false
            },
            "outputs": [],
            "source": [
                "# quartet2_mismatch (1 point)\n",
                "x = tree_likelihood(toytree.tree(\"(A,(B,(C,D)));\"), {\"A\": \"G\", \"B\": \"C\", \"C\": \"C\", \"D\": \"C\"}, basic_dna_S, basic_dna_q)\n",
                "print(round(x, 6))\n",
                "assert round(x, 6) == 0.01219\n",
                "print(\"SUCCESS: quartet2_mismatch test case passed!\")"
            ]
        },
        {
            "cell_type": "code",
            "execution_count": null,
            "metadata": {
                "nbgrader": {
                    "grade": true,
                    "grade_id": "quartet2_mismatch_alt",
                    "locked": true,
                    "points": 1,
                    "schema_version": 3,
                    "solution": false,
                    "task": false
                },
                "editable": false,
                "deletable": false
            },
            "outputs": [],
            "source": [
                "# quartet2_mismatch_alt (1 point)\n",
                "basic_dna_S_alt = submatrix.match_mismatch_matrix(0.91, 0.03, DNA)\n",
                "basic_dna_q_alt = {\"A\": 0.2, \"C\": 0.3, \"G\": 0.3, \"T\": 0.2}\n",
                "x = tree_likelihood(toytree.tree(\"(A,(B,(C,D)));\"), {\"A\": \"G\", \"B\": \"C\", \"C\": \"C\", \"D\": \"C\"}, \n",
                "                    basic_dna_S_alt, basic_dna_q_alt)\n",
                "print(round(x, 6))\n",
                "assert round(x, 6) == 0.011695\n",
                "print(\"SUCCESS: quartet2_mismatch_alt test case passed!\")"
            ]
        },
        {
            "cell_type": "code",
            "execution_count": null,
            "metadata": {
                "nbgrader": {
                    "grade": true,
                    "grade_id": "large",
                    "locked": true,
                    "points": 1,
                    "schema_version": 3,
                    "solution": false,
                    "task": false
                },
                "editable": false,
                "deletable": false
            },
            "outputs": [],
            "source": [
                "# large (1 point) (combines quartet2_mismatch and quartet_all_mismatch)\n",
                "x = tree_likelihood(toytree.tree(\"((E,(F,(G,H))),((A,B),(C,D)));\"),\n",
                "                    {\"A\": \"G\", \"B\": \"C\", \"C\": \"T\", \"D\": \"A\", \"E\": \"G\", \"F\": \"C\", \"G\": \"C\", \"H\": \"C\"},\n",
                "                    basic_dna_S, basic_dna_q)\n",
                "print(round(x, 6))\n",
                "assert round(x, 6) == 0.000003\n",
                "print(\"SUCCESS: large test case passed!\")"
            ]
        },
        {
            "cell_type": "markdown",
            "metadata": {},
            "source": [
                "### Hidden tests (9 points total)"
            ]
        },
        {
            "cell_type": "code",
            "execution_count": null,
            "metadata": {
                "nbgrader": {
                    "grade": true,
                    "grade_id": "p1_hidden1",
                    "locked": true,
                    "points": 3,
                    "schema_version": 3,
                    "solution": false,
                    "task": false
                },
                "editable": false,
                "deletable": false
            },
            "outputs": [],
            "source": [
                "# p1_hidden1 (3 points)\n",
                "###\n",
                "### AUTOGRADER TEST - DO NOT REMOVE\n",
                "###\n"
            ]
        },
        {
            "cell_type": "code",
            "execution_count": null,
            "metadata": {
                "nbgrader": {
                    "grade": true,
                    "grade_id": "p1_hidden2",
                    "locked": true,
                    "points": 3,
                    "schema_version": 3,
                    "solution": false,
                    "task": false
                },
                "editable": false,
                "deletable": false
            },
            "outputs": [],
            "source": [
                "# p1_hidden2 (3 points)\n",
                "###\n",
                "### AUTOGRADER TEST - DO NOT REMOVE\n",
                "###\n"
            ]
        },
        {
            "cell_type": "code",
            "execution_count": null,
            "metadata": {
                "nbgrader": {
                    "grade": true,
                    "grade_id": "p1_hidden3",
                    "locked": true,
                    "points": 3,
                    "schema_version": 3,
                    "solution": false,
                    "task": false
                },
                "editable": false,
                "deletable": false
            },
            "outputs": [],
            "source": [
                "# p1_hidden3 (3 points)\n",
                "###\n",
                "### AUTOGRADER TEST - DO NOT REMOVE\n",
                "###\n"
            ]
        }
    ],
    "metadata": {
        "celltoolbar": "Create Assignment",
        "kernelspec": {
            "display_name": "Python 3 [3.10]",
            "language": "python",
            "name": "python3"
        },
        "language_info": {
            "codemirror_mode": {
                "name": "ipython",
                "version": 3
            },
            "file_extension": ".py",
            "mimetype": "text\/x-python",
            "name": "python",
            "nbconvert_exporter": "python",
            "pygments_lexer": "ipython3",
            "version": "3.10.2"
        },
        "varInspector": {
            "cols": {
                "lenName": 16,
                "lenType": 16,
                "lenVar": 40
            },
            "kernels_config": {
                "python": {
                    "delete_cmd_postfix": "",
                    "delete_cmd_prefix": "del ",
                    "library": "var_list.py",
                    "varRefreshCmd": "print(var_dic_list())"
                },
                "r": {
                    "delete_cmd_postfix": ") ",
                    "delete_cmd_prefix": "rm(",
                    "library": "var_list.r",
                    "varRefreshCmd": "cat(var_dic_list()) "
                }
            },
            "types_to_exclude": [
                "module",
                "function",
                "builtin_function_or_method",
                "instance",
                "_Feature"
            ],
            "window_display": false
        }
    },
    "nbformat": 4,
    "nbformat_minor": 4
}